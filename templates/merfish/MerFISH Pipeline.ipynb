{
 "cells": [
  {
   "cell_type": "markdown",
   "metadata": {
    "slideshow": {
     "slide_type": "slide"
    }
   },
   "source": [
    "# Running the MerFISH pipeline\n",
    "\n",
    "This notebook describes how to run the MerFISH pipeline from the notebook. Information on the pipeline can be found from the documentation at http://imaxt.ast.cam.ac.uk/docs/merfish/docs/index.html"
   ]
  },
  {
   "cell_type": "markdown",
   "metadata": {
    "slideshow": {
     "slide_type": "slide"
    }
   },
   "source": [
    "## Copying data\n",
    "\n",
    "In order to copy data to the server use ftp. The connection details are:\n",
    "\n",
    " * Protocol: SFTP\n",
    " * URI: imaxt.ast.cam.ac.uk\n",
    " * Port: 2222\n",
    " * Authentication: Use your archive username and password\n",
    " * Path where to store data: /storage/*username*\n",
    "\n",
    "In Linux the `lftp` command is very useful. E.g. to transfer the contents of the directory `merfish_sample_001` using 10 threads\n",
    "\n",
    "```bash\n",
    "lftp -e 'mirror -R --parallel=10 merfish_sample_001; quit;' \\ \n",
    "sftp://username@imaxt.ast.cam.ac.uk:2222/storage/username\n",
    "```\n",
    "\n",
    "where *username* is your archive username.\n",
    "\n",
    "<div class=\"alert alert-block alert-warning\">\n",
    "    <b>N.B.:</b> The location of the data in the server is /data/meds1_a/jimaxt/<em>username</em>\n",
    "</div>"
   ]
  },
  {
   "cell_type": "markdown",
   "metadata": {
    "slideshow": {
     "slide_type": "slide"
    }
   },
   "source": [
    "## Writing a pipeline definition file\n",
    "\n",
    "Below there is a default configuration file. Need to edit this to point to the location of the data and additional information. The main parameters needed are:\n",
    "\n",
    " * ``data_description``: this strucure contains the location and characteristics of the data. Most of the keywords here needed modification for each experiment. This will be eventually in the metadata.\n",
    " * ``output_dir``: Location of output analysys. This should be a subdirectory in ``/data/meds1_a/processed/merfish``.\n",
    " \n",
    " In the server a default configuration file can be obtained typing:\n",
    " \n",
    " ```bash\n",
    " python -m merfish_pipeline config\n",
    " ```\n",
    " \n",
    " * ``decoding.bead_planes``: This is a list containing the z offsets that can be used to determine offsets between cycles. These should be those planes with higher concentration of beads. Note that the first plane is z=0. So this could be e.g. [0, 1, 2, 3] to use only the first 4 offsets.\n",
    " * ``decoding.rna_planes``: As above but for the RNA, these are the offsets that will be decoded.\n",
    " \n",
    "More documentation is available from http://imaxt.ast.cam.ac.uk/docs/merfish/docs/pipedef.html\n",
    "\n",
    "Below a ready to go pipeline definition file. Modify the parameters and run the cell so that a file called ``merfish.yaml`` will be created in the current directory."
   ]
  },
  {
   "cell_type": "code",
   "execution_count": null,
   "metadata": {
    "slideshow": {
     "slide_type": "subslide"
    }
   },
   "outputs": [],
   "source": [
    "%%writefile merfish.yaml\n",
    "\n",
    "version: 1\n",
    "\n",
    "extra_pip_packages: merfish-pipeline\n",
    "name: merfish\n",
    "\n",
    "# Data description file\n",
    "data_description: \n",
    "  path: /data/meds1_b/imaxt_data/merfish/20190530/2019_05_30_tumourtissue4t1_acry_sds2d-cleared\n",
    "  name: 2019_05_30_tumourtissue4t1  # Unique name to identify the sample\n",
    "  raw: raw_data                     # Directory containing the Tiff images\n",
    "\n",
    "  stagepos: matlab_processing/stagePos.csv                               # Stage pos file\n",
    "  codebook: matlab_processing/C1E1_codebook.csv                          # Codebook file\n",
    "  data_organization: reformatted_raw_for_matlab/data_organization.xlsx   # Data organization file\n",
    "\n",
    "# Directory where to write data\n",
    "output_dir: /data/meds1_b/imaxt/merfish/output2\n",
    "\n",
    "# Configuration for doing the mosaic\n",
    "mosaic:\n",
    "  compute_offsets: True\n",
    "  reference_channel: bit=0\n",
    "  store_arrays: False\n",
    "\n",
    "# Configuration for decoding\n",
    "decoding:\n",
    "  decode: True  # Run decoding\n",
    "  fovs: []      # List of fields to decode. Empty for all.\n",
    "  bead_planes: []     # List of bead offsets to use\n",
    "  rna_planes: []       # List of RNA offsets to use\n",
    "  threshold: 3  # Extraction threshold\n",
    "  minarea: 5    # Minimum area of features to extract\n",
    "\n",
    "resources:\n",
    "  workers: 80    # number of workers\n",
    "    \n",
    "comments: >\n",
    "  These are comments that can be added by the user.\n",
    "  There can be any number of lines indented.\n",
    "\n",
    "  Paragraphs are separated by an empty line"
   ]
  },
  {
   "cell_type": "markdown",
   "metadata": {
    "slideshow": {
     "slide_type": "slide"
    }
   },
   "source": [
    "## Submitting the pipeline\n",
    "\n",
    "Prior to submitting a pipeline you need to be authenticated. To do so run\n",
    "\n",
    "```bash\n",
    "owl api login\n",
    "```\n",
    "\n",
    "from a terminal. This only needs to be done once.\n",
    "\n",
    "Then pipelines can be submitted as:"
   ]
  },
  {
   "cell_type": "code",
   "execution_count": null,
   "metadata": {
    "slideshow": {
     "slide_type": "fragment"
    }
   },
   "outputs": [],
   "source": [
    "!owl pipeline submit --conf merfish.yaml"
   ]
  },
  {
   "cell_type": "markdown",
   "metadata": {
    "slideshow": {
     "slide_type": "slide"
    }
   },
   "source": [
    "## Tracking progress\n",
    "\n",
    "You can track progress from the terminal with the command:\n",
    "\n",
    "```bash\n",
    "owl pipeline status jobid\n",
    "```\n",
    "\n",
    "or using a browser and going to the archive web page at: https://imaxt.ast.cam.ac.uk/archive/owl"
   ]
  },
  {
   "cell_type": "markdown",
   "metadata": {},
   "source": [
    "\n",
    "<p style='text-align: right;'> Last Updated: 2018-08-19</p>\n"
   ]
  }
 ],
 "metadata": {
  "kernelspec": {
   "display_name": "Python 3",
   "language": "python",
   "name": "python3"
  },
  "language_info": {
   "codemirror_mode": {
    "name": "ipython",
    "version": 3
   },
   "file_extension": ".py",
   "mimetype": "text/x-python",
   "name": "python",
   "nbconvert_exporter": "python",
   "pygments_lexer": "ipython3",
   "version": "3.7.3"
  }
 },
 "nbformat": 4,
 "nbformat_minor": 4
}
