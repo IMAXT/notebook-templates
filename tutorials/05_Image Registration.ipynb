{
 "cells": [
  {
   "cell_type": "markdown",
   "metadata": {},
   "source": [
    "<div style=\"display: inline; justify-content: space-between;\">\n",
    "    <img src=\"assets/jupyter_logo.png\" width=\"60px;\"/>\n",
    "    <span>&nbsp;</span>\n",
    "    <img src=\"assets/cruk_logo.jpg\" width=\"260px\" style=\"padding: 4px\"/>\n",
    "    <span>&nbsp;</span>\n",
    "    <img src=\"assets/ioa_logo.png\" width=\"80px\"/>\n",
    "</div>"
   ]
  },
  {
   "cell_type": "markdown",
   "metadata": {},
   "source": [
    "# Image Registration\n",
    "\n",
    "In this tutorial we are going to use two nuclear images from MerFISH, observed in two consecutive field of view observations, find the relative offsets between them and create a mosaic"
   ]
  },
  {
   "cell_type": "markdown",
   "metadata": {},
   "source": [
    "## Module Imports\n",
    "\n",
    "* [Zarr](https://zarr.readthedocs.io/en/stable/) -- chunked, compressed, N-dimensional arrays\n",
    "* [Matplotlib](https://matplotlib.org), [Astropy](https://www.astropy.org) -- plotting\n",
    "* [Scipy](https://www.scipy.org) -- image processing"
   ]
  },
  {
   "cell_type": "code",
   "execution_count": 1,
   "metadata": {},
   "outputs": [
    {
     "name": "stdout",
     "output_type": "stream",
     "text": [
      "Python                        : 3.7.3 64bit GCC 7.3.0\n",
      "OS                            : Linux 3.10.0 862.14.4.el7.x86_64 x86_64 with debian buster sid\n",
      "\n",
      "astropy                       : 3.2.1\n",
      "matplotlib                    : 3.1.1\n",
      "numpy                         : 1.17.1\n",
      "scipy                         : 1.3.1\n",
      "zarr                          : 2.3.2\n"
     ]
    }
   ],
   "source": [
    "%info_versions -p zarr matplotlib astropy scipy numpy"
   ]
  },
  {
   "cell_type": "code",
   "execution_count": null,
   "metadata": {},
   "outputs": [],
   "source": [
    "import zarr\n",
    "\n",
    "import matplotlib.pyplot as plt\n",
    "import numpy as np\n",
    "from astropy.visualization import ZScaleInterval\n",
    "from scipy.ndimage import fourier_shift, median_filter, shift, label, fourier_gaussian, find_objects, rotate"
   ]
  },
  {
   "cell_type": "markdown",
   "metadata": {},
   "source": [
    "## Read images"
   ]
  },
  {
   "cell_type": "code",
   "execution_count": null,
   "metadata": {},
   "outputs": [],
   "source": [
    "z = zarr.open('/data/meds1_b/imaxt/merfish/test_merFISH_data', 'r')"
   ]
  },
  {
   "cell_type": "markdown",
   "metadata": {},
   "source": [
    "First level is the field of views:"
   ]
  },
  {
   "cell_type": "code",
   "execution_count": null,
   "metadata": {},
   "outputs": [],
   "source": [
    "[*z.groups()]"
   ]
  },
  {
   "cell_type": "markdown",
   "metadata": {},
   "source": [
    "Then for each field of views, the z planes:"
   ]
  },
  {
   "cell_type": "code",
   "execution_count": null,
   "metadata": {},
   "outputs": [],
   "source": [
    "[*z['fov=0'].groups()]"
   ]
  },
  {
   "cell_type": "markdown",
   "metadata": {},
   "source": [
    "Each plane contains 8 cycle images:"
   ]
  },
  {
   "cell_type": "code",
   "execution_count": null,
   "metadata": {},
   "outputs": [],
   "source": [
    "[*z['fov=0/z=0'].groups()]"
   ]
  },
  {
   "cell_type": "markdown",
   "metadata": {},
   "source": [
    "Each cycle contains 4 images: nuclei, microbeads and two bit observations:"
   ]
  },
  {
   "cell_type": "code",
   "execution_count": null,
   "metadata": {},
   "outputs": [],
   "source": [
    "[*z['fov=0/z=0/cycle=0'].groups()]"
   ]
  },
  {
   "cell_type": "markdown",
   "metadata": {},
   "source": [
    "Metadata can be acessed from ``z.attrs``"
   ]
  },
  {
   "cell_type": "code",
   "execution_count": null,
   "metadata": {},
   "outputs": [],
   "source": [
    "z.attrs['bitnames']"
   ]
  },
  {
   "cell_type": "code",
   "execution_count": null,
   "metadata": {},
   "outputs": [],
   "source": [
    "z.attrs['orig']"
   ]
  },
  {
   "cell_type": "code",
   "execution_count": null,
   "metadata": {},
   "outputs": [],
   "source": [
    "import pandas as pd\n",
    "\n",
    "codebook = z.attrs['codebook']\n",
    "pd.DataFrame.from_dict(codebook)"
   ]
  },
  {
   "cell_type": "code",
   "execution_count": null,
   "metadata": {},
   "outputs": [],
   "source": [
    "im0 = z['fov=0/z=0/cycle=0/nuclei/raw']\n",
    "im1 = z['fov=1/z=0/cycle=0/nuclei/raw']"
   ]
  },
  {
   "cell_type": "code",
   "execution_count": null,
   "metadata": {},
   "outputs": [],
   "source": [
    "zs = ZScaleInterval()\n",
    "vmin, vmax = zs.get_limits(im0)\n",
    "fig, ax = plt.subplots(nrows=1, ncols=2, figsize=(18,16))\n",
    "ax[0].imshow(im0, vmin=vmin, vmax=vmax)\n",
    "ax[1].imshow(im1, vmin=vmin, vmax=vmax);"
   ]
  },
  {
   "cell_type": "markdown",
   "metadata": {},
   "source": [
    "## Compute offsets\n",
    "\n",
    "In order to compute offsets, one method is take as reference the first image and then move the second image...\n",
    "\n",
    "This, known as cross-correlation, is an expensive operation in the image space, but using the Fourier transform, it is a simple multiplication in the frequency domain, i.e.:"
   ]
  },
  {
   "cell_type": "markdown",
   "metadata": {},
   "source": [
    "\\begin{equation}\n",
    "\\mathcal{F}(f * g) = \\mathcal{F}(f) \\mathcal{F}(g)\n",
    "\\end{equation}\n",
    "\n",
    "Tiles are transformed into the frequency domain space by discrete fourier transform $\\mathcal{F}_0$ and $\\mathcal{F}_1$"
   ]
  },
  {
   "cell_type": "code",
   "execution_count": null,
   "metadata": {},
   "outputs": [],
   "source": [
    "src_image = np.array(im0, dtype=np.complex128, copy=False)\n",
    "target_image = np.array(im1, dtype=np.complex128, copy=False)\n",
    "F_0 = np.fft.fftn(src_image)\n",
    "F_1 = np.fft.fftn(target_image)\n",
    "F_0_s = np.fft.fftshift(F_0)\n",
    "F_1_s = np.fft.fftshift(F_1)"
   ]
  },
  {
   "cell_type": "code",
   "execution_count": null,
   "metadata": {},
   "outputs": [],
   "source": [
    "F_0_s = np.fft.fftshift(F_0)\n",
    "F_1_s = np.fft.fftshift(F_1)\n",
    "zs = ZScaleInterval()\n",
    "vmin, vmax = zs.get_limits(np.abs(F_0_s))\n",
    "fig, ax = plt.subplots(nrows=1, ncols=2, figsize=(18,16))\n",
    "ax[0].imshow(np.abs(F_0_s), vmin=vmin, vmax=3*vmax, extent=(-np.pi, np.pi, -np.pi, np.pi))\n",
    "ax[1].imshow(np.abs(F_1_s), vmin=vmin, vmax=3*vmax, extent=(-np.pi, np.pi, -np.pi, np.pi));"
   ]
  },
  {
   "cell_type": "code",
   "execution_count": null,
   "metadata": {},
   "outputs": [],
   "source": [
    "F_0 = fourier_gaussian(F_0, 5)\n",
    "F_1 = fourier_gaussian(F_1, 5)"
   ]
  },
  {
   "cell_type": "code",
   "execution_count": null,
   "metadata": {},
   "outputs": [],
   "source": [
    "F_0_s = np.fft.fftshift(F_0)\n",
    "F_1_s = np.fft.fftshift(F_1)\n",
    "fig, ax = plt.subplots(nrows=1, ncols=2, figsize=(18,16))\n",
    "ax[0].imshow(np.abs(F_0_s), vmin=vmin, vmax=3*vmax, extent=(-np.pi, np.pi, -np.pi, np.pi))\n",
    "ax[1].imshow(np.abs(F_1_s), vmin=vmin, vmax=3*vmax, extent=(-np.pi, np.pi, -np.pi, np.pi));"
   ]
  },
  {
   "cell_type": "markdown",
   "metadata": {},
   "source": [
    "Cross correlation $\\Phi_{10} = \\mathcal{F}_1 \\times \\mathcal{F}_0^*$ and auto-correlation terms $\\Phi_{00} = \\mathcal{F}_0 \\times \\mathcal{F}_0^*$ and $\\Phi_{11} = \\mathcal{F}_1 \\times \\mathcal{F}_1^*$"
   ]
  },
  {
   "cell_type": "code",
   "execution_count": null,
   "metadata": {},
   "outputs": [],
   "source": [
    "phi_10 = F_1 * F_0.conj()\n",
    "phi_01 = F_0 * F_1.conj()\n",
    "phi_00 = F_0 * F_0.conj()\n",
    "phi_11 = F_1 * F_1.conj()"
   ]
  },
  {
   "cell_type": "markdown",
   "metadata": {},
   "source": [
    "An enhanced auto-correlation terms are used to compute an enhanced cross-correlation term\n",
    "\n",
    "\\begin{equation}\n",
    "P = \\frac{\\Phi_{10}}{\\sqrt{\\Phi_{00} * \\Phi_{11}} + \\epsilon}\n",
    "\\end{equation}"
   ]
  },
  {
   "cell_type": "code",
   "execution_count": null,
   "metadata": {},
   "outputs": [],
   "source": [
    "P = phi_01 / (np.sqrt(phi_00 * phi_11) + 1e-10)\n",
    "P = fourier_gaussian(P, 5)\n",
    "enhanced_correlation = np.fft.ifftn(P)"
   ]
  },
  {
   "cell_type": "code",
   "execution_count": null,
   "metadata": {},
   "outputs": [],
   "source": [
    "corr = enhanced_correlation.real\n",
    "zs = ZScaleInterval()\n",
    "vmin, vmax = zs.get_limits(corr)\n",
    "fig, ax = plt.subplots(nrows=1, ncols=2, figsize=(18,16))\n",
    "ax[0].imshow(corr, vmin=vmin, vmax=3*vmax)\n",
    "ax[1].imshow(corr[1800:1900,0:100], vmin=vmin, vmax=3*vmax, extent=(0,100,1900,1800));"
   ]
  },
  {
   "cell_type": "code",
   "execution_count": null,
   "metadata": {},
   "outputs": [],
   "source": [
    "from imaxt_image.registration import find_shift\n",
    "\n",
    "res = find_shift(im0, im1, overlap=(0.08, 0.12), border_width=20)\n",
    "res"
   ]
  },
  {
   "cell_type": "code",
   "execution_count": null,
   "metadata": {},
   "outputs": [],
   "source": [
    "maxima = (int(res['y']), int(res['x']))\n",
    "plt.plot(np.mean(corr[maxima[0]-5:maxima[0]+5,maxima[1]-10:maxima[1]+10], axis=0));"
   ]
  },
  {
   "cell_type": "code",
   "execution_count": null,
   "metadata": {},
   "outputs": [],
   "source": [
    "from skimage.transform import warp, AffineTransform\n",
    "\n",
    "c0 = np.ones_like(im0)\n",
    "\n",
    "image0=warp(im0, AffineTransform(), output_shape=(4000,2100))\n",
    "conf0 = warp(c0, AffineTransform(), output_shape=(4000,2100)) + 1e-10\n",
    "tform = AffineTransform(translation=(maxima[1], maxima[0]))\n",
    "image = warp(im1, tform.inverse, output_shape=(4000,2100))\n",
    "conf = warp(c0, tform.inverse, output_shape=(4000,2100)) + 1e-10\n",
    "\n",
    "\n",
    "plt.figure(figsize=(12,12))\n",
    "plt.imshow((image+image0)/(conf0+conf));"
   ]
  },
  {
   "cell_type": "markdown",
   "metadata": {},
   "source": [
    "# Parallel Computation using Dask\n",
    "\n",
    "## Starting the Dask Cluster"
   ]
  },
  {
   "cell_type": "code",
   "execution_count": 1,
   "metadata": {},
   "outputs": [],
   "source": [
    "from distributed import Client\n",
    "from dask import delayed, compute, visualize\n",
    "import dask.array as da\n",
    "from dask_kubernetes import KubeCluster"
   ]
  },
  {
   "cell_type": "code",
   "execution_count": 2,
   "metadata": {},
   "outputs": [],
   "source": [
    "cluster = KubeCluster(n_workers=3)"
   ]
  },
  {
   "cell_type": "code",
   "execution_count": null,
   "metadata": {},
   "outputs": [],
   "source": [
    "cluster"
   ]
  },
  {
   "cell_type": "code",
   "execution_count": null,
   "metadata": {},
   "outputs": [],
   "source": [
    "client = Client(cluster)"
   ]
  },
  {
   "cell_type": "code",
   "execution_count": null,
   "metadata": {},
   "outputs": [],
   "source": [
    "#futures = []\n",
    "#for j in range(1):\n",
    "#    for i in range(12-1):\n",
    "#        im0 = z[f'fov={i}/z=0/cycle=0/nuclei/raw']\n",
    "#        im1 = z[f'fov={i+1}/z=0/cycle=0/nuclei/raw']\n",
    "#        fut = client.submit(find_shift, im0, im1, overlap=(0.08, 0.12), border_width=20)\n",
    "#        futures.append([i, i+1, fut])"
   ]
  },
  {
   "cell_type": "code",
   "execution_count": null,
   "metadata": {},
   "outputs": [],
   "source": [
    "#offsets = [(i,j,fut.result()) for i,j,fut in futures]\n",
    "#offsets"
   ]
  },
  {
   "cell_type": "code",
   "execution_count": null,
   "metadata": {},
   "outputs": [],
   "source": [
    "from skimage.transform import warp, AffineTransform\n",
    "\n",
    "@delayed(nout=2)\n",
    "def abs_offset(xoff, yoff, offsets):\n",
    "    x, y = offsets['x'], offsets['y']\n",
    "    xoff += x\n",
    "    yoff += y\n",
    "    return xoff, yoff\n",
    "\n",
    "@delayed(nout=2)\n",
    "def get_warp(im, x, y):\n",
    "    tform = AffineTransform(translation=(x, y))\n",
    "    image = warp(im, tform.inverse, output_shape=(8000, 6000))\n",
    "    conf = warp(np.ones_like(im), tform.inverse, output_shape=(8000, 6000))\n",
    "    return image, conf\n",
    "    \n",
    "images = []\n",
    "conf = []\n",
    "for i in range(12):\n",
    "    if i == 0:\n",
    "        im1 = z[f'fov={i}/z=0/cycle=0/nuclei/raw']\n",
    "        xoff, yoff = 0, 200\n",
    "    else:\n",
    "        im0 = z[f'fov={i-1}/z=0/cycle=0/nuclei/raw']\n",
    "        im1 = z[f'fov={i}/z=0/cycle=0/nuclei/raw']\n",
    "        offsets = delayed(find_shift)(im0, im1, overlap=(0.08, 0.12), border_width=20)\n",
    "        xoff, yoff = abs_offset(xoff, yoff, offsets)\n",
    "    img, cf = get_warp(im1, xoff, yoff)\n",
    "    arr = da.from_delayed(img, (8000, 6000), dtype='float').rechunk((2000,2000))\n",
    "    images.append(arr)\n",
    "    arr = da.from_delayed(cf, (8000, 6000), dtype='float').rechunk((2000,2000))\n",
    "    conf.append(arr)"
   ]
  },
  {
   "cell_type": "code",
   "execution_count": null,
   "metadata": {},
   "outputs": [],
   "source": [
    "images[0]"
   ]
  },
  {
   "cell_type": "code",
   "execution_count": null,
   "metadata": {},
   "outputs": [],
   "source": [
    "stack = da.stack(images)\n",
    "cstack = da.stack(conf)"
   ]
  },
  {
   "cell_type": "code",
   "execution_count": null,
   "metadata": {},
   "outputs": [],
   "source": [
    "stack"
   ]
  },
  {
   "cell_type": "code",
   "execution_count": null,
   "metadata": {},
   "outputs": [],
   "source": [
    "fig = plt.figure(figsize=(10,15))\n",
    "plt.imshow(stack[8]);"
   ]
  },
  {
   "cell_type": "code",
   "execution_count": null,
   "metadata": {},
   "outputs": [],
   "source": [
    "fig = plt.figure(figsize=(10,15))\n",
    "plt.imshow(stack.sum(axis=0));"
   ]
  },
  {
   "cell_type": "code",
   "execution_count": null,
   "metadata": {},
   "outputs": [],
   "source": [
    "fig = plt.figure(figsize=(10,15))\n",
    "plt.imshow(stack.sum(axis=0)/cstack.sum(axis=0));"
   ]
  },
  {
   "cell_type": "code",
   "execution_count": null,
   "metadata": {},
   "outputs": [],
   "source": [
    "client.close()\n",
    "cluster.close()"
   ]
  },
  {
   "cell_type": "code",
   "execution_count": null,
   "metadata": {},
   "outputs": [],
   "source": []
  }
 ],
 "metadata": {
  "kernelspec": {
   "display_name": "Python 3",
   "language": "python",
   "name": "python3"
  },
  "language_info": {
   "codemirror_mode": {
    "name": "ipython",
    "version": 3
   },
   "file_extension": ".py",
   "mimetype": "text/x-python",
   "name": "python",
   "nbconvert_exporter": "python",
   "pygments_lexer": "ipython3",
   "version": "3.7.3"
  }
 },
 "nbformat": 4,
 "nbformat_minor": 4
}
